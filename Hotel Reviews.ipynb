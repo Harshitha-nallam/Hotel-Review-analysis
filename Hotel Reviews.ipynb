{
 "cells": [
  {
   "cell_type": "code",
   "execution_count": 1,
   "id": "0e37e810-2f63-4802-9f03-1f3c35abb3ee",
   "metadata": {},
   "outputs": [],
   "source": [
    "import pandas as pd\n",
    "import numpy as np\n",
    "import nltk\n",
    "from nltk import word_tokenize\n",
    "import string\n",
    "from nltk.corpus import stopwords"
   ]
  },
  {
   "cell_type": "code",
   "execution_count": 3,
   "id": "76e04ac5-752b-4246-9376-746604958b2d",
   "metadata": {},
   "outputs": [
    {
     "name": "stderr",
     "output_type": "stream",
     "text": [
      "[nltk_data] Downloading package punkt_tab to\n",
      "[nltk_data]     C:\\Users\\nalla_oqdrvr6\\AppData\\Roaming\\nltk_data...\n",
      "[nltk_data]   Package punkt_tab is already up-to-date!\n",
      "[nltk_data] Downloading package stopwords to\n",
      "[nltk_data]     C:\\Users\\nalla_oqdrvr6\\AppData\\Roaming\\nltk_data...\n",
      "[nltk_data]   Package stopwords is already up-to-date!\n"
     ]
    },
    {
     "data": {
      "text/plain": [
       "True"
      ]
     },
     "execution_count": 3,
     "metadata": {},
     "output_type": "execute_result"
    }
   ],
   "source": [
    "nltk.download('punkt_tab')\n",
    "nltk.download('stopwords')"
   ]
  },
  {
   "cell_type": "code",
   "execution_count": 5,
   "id": "811bfe1e-359f-4df9-9d46-5b276d1f1279",
   "metadata": {},
   "outputs": [
    {
     "data": {
      "text/html": [
       "<div>\n",
       "<style scoped>\n",
       "    .dataframe tbody tr th:only-of-type {\n",
       "        vertical-align: middle;\n",
       "    }\n",
       "\n",
       "    .dataframe tbody tr th {\n",
       "        vertical-align: top;\n",
       "    }\n",
       "\n",
       "    .dataframe thead th {\n",
       "        text-align: right;\n",
       "    }\n",
       "</style>\n",
       "<table border=\"1\" class=\"dataframe\">\n",
       "  <thead>\n",
       "    <tr style=\"text-align: right;\">\n",
       "      <th></th>\n",
       "      <th>Review</th>\n",
       "      <th>Rating</th>\n",
       "    </tr>\n",
       "  </thead>\n",
       "  <tbody>\n",
       "    <tr>\n",
       "      <th>0</th>\n",
       "      <td>nice hotel expensive parking got good deal sta...</td>\n",
       "      <td>4</td>\n",
       "    </tr>\n",
       "    <tr>\n",
       "      <th>1</th>\n",
       "      <td>ok nothing special charge diamond member hilto...</td>\n",
       "      <td>2</td>\n",
       "    </tr>\n",
       "    <tr>\n",
       "      <th>2</th>\n",
       "      <td>nice rooms not 4* experience hotel monaco seat...</td>\n",
       "      <td>3</td>\n",
       "    </tr>\n",
       "    <tr>\n",
       "      <th>3</th>\n",
       "      <td>unique, great stay, wonderful time hotel monac...</td>\n",
       "      <td>5</td>\n",
       "    </tr>\n",
       "    <tr>\n",
       "      <th>4</th>\n",
       "      <td>great stay great stay, went seahawk game aweso...</td>\n",
       "      <td>5</td>\n",
       "    </tr>\n",
       "  </tbody>\n",
       "</table>\n",
       "</div>"
      ],
      "text/plain": [
       "                                              Review  Rating\n",
       "0  nice hotel expensive parking got good deal sta...       4\n",
       "1  ok nothing special charge diamond member hilto...       2\n",
       "2  nice rooms not 4* experience hotel monaco seat...       3\n",
       "3  unique, great stay, wonderful time hotel monac...       5\n",
       "4  great stay great stay, went seahawk game aweso...       5"
      ]
     },
     "execution_count": 5,
     "metadata": {},
     "output_type": "execute_result"
    }
   ],
   "source": [
    "#dataset\n",
    "data = pd.read_excel(r'C:\\Users\\nalla_oqdrvr6\\Downloads\\hotel_reviews.xlsx')\n",
    "data.head()"
   ]
  },
  {
   "cell_type": "code",
   "execution_count": 7,
   "id": "0c844d4d-08e5-4284-ad9b-cfe26829abfd",
   "metadata": {},
   "outputs": [
    {
     "name": "stdout",
     "output_type": "stream",
     "text": [
      "<class 'pandas.core.frame.DataFrame'>\n",
      "RangeIndex: 20491 entries, 0 to 20490\n",
      "Data columns (total 2 columns):\n",
      " #   Column  Non-Null Count  Dtype \n",
      "---  ------  --------------  ----- \n",
      " 0   Review  20491 non-null  object\n",
      " 1   Rating  20491 non-null  int64 \n",
      "dtypes: int64(1), object(1)\n",
      "memory usage: 320.3+ KB\n"
     ]
    }
   ],
   "source": [
    "data.info()"
   ]
  },
  {
   "cell_type": "code",
   "execution_count": 9,
   "id": "6898fef4-c6bd-4eca-adf2-d8b31f93d5f5",
   "metadata": {},
   "outputs": [
    {
     "data": {
      "text/plain": [
       "Review    0\n",
       "Rating    0\n",
       "dtype: int64"
      ]
     },
     "execution_count": 9,
     "metadata": {},
     "output_type": "execute_result"
    }
   ],
   "source": [
    "#checking for missing values\n",
    "data.isnull().sum()"
   ]
  },
  {
   "cell_type": "code",
   "execution_count": 11,
   "id": "f8bdb789-2312-4189-81be-88bf325245a6",
   "metadata": {},
   "outputs": [],
   "source": [
    "#assigning sentiments based on rating\n",
    "def assign_sentiments(Rating):\n",
    "    return 'Positive' if Rating >= 4 else 'Negative'\n",
    "\n",
    "data['Sentiment'] = data['Rating'].apply(assign_sentiments)"
   ]
  },
  {
   "cell_type": "code",
   "execution_count": 13,
   "id": "4c74e7ab-7421-46c2-a5aa-91df725afb7d",
   "metadata": {},
   "outputs": [
    {
     "name": "stdout",
     "output_type": "stream",
     "text": [
      "<class 'pandas.core.frame.DataFrame'>\n",
      "RangeIndex: 20491 entries, 0 to 20490\n",
      "Data columns (total 3 columns):\n",
      " #   Column     Non-Null Count  Dtype \n",
      "---  ------     --------------  ----- \n",
      " 0   Review     20491 non-null  object\n",
      " 1   Rating     20491 non-null  int64 \n",
      " 2   Sentiment  20491 non-null  object\n",
      "dtypes: int64(1), object(2)\n",
      "memory usage: 480.4+ KB\n"
     ]
    }
   ],
   "source": [
    "data.info()"
   ]
  },
  {
   "cell_type": "code",
   "execution_count": 27,
   "id": "8641b57c-319e-4ca7-a224-c8fce123068c",
   "metadata": {},
   "outputs": [],
   "source": [
    "#preprocessing the reviews\n",
    "def preprocess_review(Review):\n",
    "    tokens = word_tokenize(Review)\n",
    "    tokens = [word.lower() for word in tokens if word.isalpha()]\n",
    "    stop_words = set(stopwords.words('english'))\n",
    "    return [word for word in tokens if word not in stop_words]\n",
    "\n",
    "data['tokenised_reviews'] = data['Review'].apply(preprocess_review)"
   ]
  },
  {
   "cell_type": "code",
   "execution_count": 16,
   "id": "db13bc6b-6602-44ba-b0af-b49dbd918c6f",
   "metadata": {},
   "outputs": [
    {
     "name": "stdout",
     "output_type": "stream",
     "text": [
      "                                                  Review  Rating Sentiment  \\\n",
      "0      nice hotel expensive parking got good deal sta...       4  Positive   \n",
      "1      ok nothing special charge diamond member hilto...       2  Negative   \n",
      "2      nice rooms not 4* experience hotel monaco seat...       3  Negative   \n",
      "3      unique, great stay, wonderful time hotel monac...       5  Positive   \n",
      "4      great stay great stay, went seahawk game aweso...       5  Positive   \n",
      "...                                                  ...     ...       ...   \n",
      "20486  best kept secret 3rd time staying charm, not 5...       5  Positive   \n",
      "20487  great location price view hotel great quick pl...       4  Positive   \n",
      "20488  ok just looks nice modern outside, desk staff ...       2  Negative   \n",
      "20489  hotel theft ruined vacation hotel opened sept ...       1  Negative   \n",
      "20490  people talking, ca n't believe excellent ratin...       2  Negative   \n",
      "\n",
      "                                       tokenised_reviews  \n",
      "0      [nice, hotel, expensive, parking, got, good, d...  \n",
      "1      [ok, nothing, special, charge, diamond, member...  \n",
      "2      [nice, rooms, experience, hotel, monaco, seatt...  \n",
      "3      [unique, great, stay, wonderful, time, hotel, ...  \n",
      "4      [great, stay, great, stay, went, seahawk, game...  \n",
      "...                                                  ...  \n",
      "20486  [best, kept, secret, time, staying, charm, ca,...  \n",
      "20487  [great, location, price, view, hotel, great, q...  \n",
      "20488  [ok, looks, nice, modern, outside, desk, staff...  \n",
      "20489  [hotel, theft, ruined, vacation, hotel, opened...  \n",
      "20490  [people, talking, ca, believe, excellent, rati...  \n",
      "\n",
      "[20491 rows x 4 columns]\n"
     ]
    }
   ],
   "source": [
    "print(data)"
   ]
  },
  {
   "cell_type": "code",
   "execution_count": 31,
   "id": "c6e0931d-da6c-4896-b65f-c7763d5160fe",
   "metadata": {},
   "outputs": [
    {
     "data": {
      "text/plain": [
       "0        [nice, hotel, expensive, parking, got, good, d...\n",
       "1        [ok, nothing, special, charge, diamond, member...\n",
       "2        [nice, rooms, experience, hotel, monaco, seatt...\n",
       "3        [unique, great, stay, wonderful, time, hotel, ...\n",
       "4        [great, stay, great, stay, went, seahawk, game...\n",
       "                               ...                        \n",
       "20486    [best, kept, secret, time, staying, charm, ca,...\n",
       "20487    [great, location, price, view, hotel, great, q...\n",
       "20488    [ok, looks, nice, modern, outside, desk, staff...\n",
       "20489    [hotel, theft, ruined, vacation, hotel, opened...\n",
       "20490    [people, talking, ca, believe, excellent, rati...\n",
       "Name: tokenised_reviews, Length: 20491, dtype: object"
      ]
     },
     "execution_count": 31,
     "metadata": {},
     "output_type": "execute_result"
    }
   ],
   "source": [
    "data['tokenised_reviews'] = data['tokenised_reviews'].tolist()\n",
    "data['tokenised_reviews']"
   ]
  },
  {
   "cell_type": "code",
   "execution_count": 35,
   "id": "3335c3b8-3c7e-4608-bf8e-2895b5353ad4",
   "metadata": {},
   "outputs": [
    {
     "data": {
      "text/plain": [
       "<gensim.models.word2vec.Word2Vec at 0x2541bc8e480>"
      ]
     },
     "execution_count": 35,
     "metadata": {},
     "output_type": "execute_result"
    }
   ],
   "source": [
    "#training the model\n",
    "\n",
    "from gensim.models import Word2Vec\n",
    "\n",
    "model = Word2Vec(data['tokenised_reviews'], vector_size=100, window=5, min_count=2, workers=4, sg=1)\n",
    "model"
   ]
  },
  {
   "cell_type": "code",
   "execution_count": 43,
   "id": "32598938-daee-4bc5-b5ec-9d5cff5b0d85",
   "metadata": {},
   "outputs": [
    {
     "data": {
      "text/plain": [
       "(17366026, 19247730)"
      ]
     },
     "execution_count": 43,
     "metadata": {},
     "output_type": "execute_result"
    }
   ],
   "source": [
    "#additional training\n",
    "model.train(data['tokenised_reviews'],total_examples=len(data['tokenised_reviews']),epochs=10)"
   ]
  },
  {
   "cell_type": "code",
   "execution_count": 45,
   "id": "17b598f6-dd91-4412-9dc7-d022041eacaf",
   "metadata": {},
   "outputs": [
    {
     "data": {
      "text/plain": [
       "[('monopol', 0.810026228427887),\n",
       " ('mazarin', 0.7832149267196655),\n",
       " ('fantastc', 0.779674768447876),\n",
       " ('berchielli', 0.7785251140594482),\n",
       " ('convienently', 0.7758277654647827),\n",
       " ('locaton', 0.774262547492981),\n",
       " ('athenaeum', 0.7685045599937439),\n",
       " ('majors', 0.7662182450294495),\n",
       " ('acte', 0.7651770114898682),\n",
       " ('mitre', 0.7634630799293518)]"
      ]
     },
     "execution_count": 45,
     "metadata": {},
     "output_type": "execute_result"
    }
   ],
   "source": [
    "similar_words = model.wv.most_similar('hotel')\n",
    "similar_words"
   ]
  },
  {
   "cell_type": "code",
   "execution_count": 47,
   "id": "07eb2d49-719e-4a77-9d34-05b85bd38384",
   "metadata": {},
   "outputs": [
    {
     "data": {
      "text/plain": [
       "array([-0.2079745 ,  0.21784069,  0.1511726 ,  0.36356685, -0.00409884,\n",
       "       -0.5397322 ,  0.13360022,  0.16276017, -0.0355767 , -0.27929786,\n",
       "       -0.01228051, -0.04850751,  0.19012833, -0.04460818,  0.04411665,\n",
       "       -0.31140926,  0.19900522, -0.1355789 , -0.02936627, -0.4303162 ,\n",
       "        0.04560087,  0.17206685,  0.41304728, -0.64137775,  0.30470383,\n",
       "       -0.04531256, -0.30517128,  0.07064064, -0.22394407, -0.1875106 ,\n",
       "        0.33651504,  0.05519283,  0.03439249, -0.15001301,  0.12721106,\n",
       "       -0.01659082, -0.11130727,  0.17056824,  0.33722043,  0.01248676,\n",
       "       -0.11903853, -0.1669632 , -0.3733401 , -0.22899406, -0.20319949,\n",
       "        0.25114468, -0.2085447 , -0.1610246 ,  0.17402247, -0.20179886,\n",
       "        0.10308645, -0.21946932, -0.11824213, -0.0364255 ,  0.06026887,\n",
       "        0.27221248,  0.38469386,  0.11958201, -0.02290719, -0.18037975,\n",
       "       -0.2856862 ,  0.01650521,  0.00548437, -0.11930987, -0.29287192,\n",
       "        0.26508632, -0.06488147,  0.05842847, -0.18369845,  0.02054344,\n",
       "       -0.06749785, -0.18448597, -0.03380527, -0.23834707,  0.0753096 ,\n",
       "       -0.0755531 ,  0.0330929 , -0.2669312 ,  0.24577044,  0.07289235,\n",
       "       -0.30239165,  0.04367463,  0.2768283 ,  0.4786455 ,  0.28793335,\n",
       "       -0.40592322, -0.05284441,  0.48495767,  0.09544905,  0.3687441 ,\n",
       "       -0.10660255,  0.03082474, -0.08368842, -0.0472848 ,  0.1401087 ,\n",
       "       -0.0103688 ,  0.20029591,  0.15269656, -0.3613837 , -0.35976008],\n",
       "      dtype=float32)"
      ]
     },
     "execution_count": 47,
     "metadata": {},
     "output_type": "execute_result"
    }
   ],
   "source": [
    "Word_vectors = model.wv['room']\n",
    "Word_vectors"
   ]
  },
  {
   "cell_type": "code",
   "execution_count": 49,
   "id": "77ff32bd-c9b5-49b5-86bf-4596324e0915",
   "metadata": {},
   "outputs": [
    {
     "data": {
      "text/plain": [
       "[('rooms', 0.7308468222618103),\n",
       " ('spacious', 0.7002395391464233),\n",
       " ('rooom', 0.6635240912437439),\n",
       " ('impecibly', 0.6577648520469666),\n",
       " ('appointed', 0.6544995307922363),\n",
       " ('spotlessly', 0.6533846855163574),\n",
       " ('stylishly', 0.6356275081634521),\n",
       " ('cosily', 0.6337946653366089),\n",
       " ('spacey', 0.6281524896621704),\n",
       " ('cherrywood', 0.6281437277793884)]"
      ]
     },
     "execution_count": 49,
     "metadata": {},
     "output_type": "execute_result"
    }
   ],
   "source": [
    "result = model.wv.most_similar(positive=['room','clean'],negative=['dirty'])\n",
    "result"
   ]
  },
  {
   "cell_type": "code",
   "execution_count": 51,
   "id": "7c499e8c-9df1-4bdf-b5b3-63619d57642d",
   "metadata": {},
   "outputs": [],
   "source": [
    "# Function to get the average Word2Vec vector for a sentence\n",
    "def get_avg_word2vec(tokens, model, vector_size):\n",
    "    # Filter out words that are not in the Word2Vec vocabulary\n",
    "    vectors = [model.wv[word] for word in tokens if word in model.wv]\n",
    "    if len(vectors) == 0:\n",
    "        return np.zeros(vector_size)  # Return a zero vector if no word is in the vocabulary\n",
    "    else:\n",
    "        return np.mean(vectors, axis=0)"
   ]
  },
  {
   "cell_type": "code",
   "execution_count": 53,
   "id": "10b1483f-c6cb-46aa-8452-24b19adbad8d",
   "metadata": {},
   "outputs": [],
   "source": [
    "#convert each review to a vector\n",
    "data['vectorized_reviews'] = data['tokenised_reviews'].apply(lambda tokens: get_avg_word2vec(tokens, model, 100))"
   ]
  },
  {
   "cell_type": "code",
   "execution_count": 55,
   "id": "4677f507-a4c4-4ccf-825a-2d9ffb812cdc",
   "metadata": {},
   "outputs": [],
   "source": [
    "from sklearn.model_selection import train_test_split\n",
    "from sklearn.linear_model import LogisticRegression\n",
    "from sklearn.ensemble import RandomForestClassifier\n",
    "from sklearn.tree import DecisionTreeClassifier\n",
    "from sklearn.metrics import accuracy_score, classification_report\n",
    "\n",
    "# Assume `labels` is the target variable for each review\n",
    "x = np.array(data['vectorized_reviews'].tolist())\n",
    "y = data['Rating']\n",
    "\n",
    "# Split into train and test sets\n",
    "X_train, X_test, y_train, y_test = train_test_split(x, y, test_size=0.2, random_state=42)\n",
    "\n",
    "# Initialize models\n",
    "logistic_regression = LogisticRegression(max_iter=1000)\n",
    "random_forest = RandomForestClassifier(n_estimators=100, random_state=42)\n",
    "decision_tree = DecisionTreeClassifier(random_state=42)\n",
    "\n",
    "# Train all three models\n",
    "logistic_regression.fit(X_train, y_train)\n",
    "random_forest.fit(X_train, y_train)\n",
    "decision_tree.fit(X_train, y_train)\n",
    "\n",
    "# Make predictions\n",
    "y_pred_lr = logistic_regression.predict(X_test)\n",
    "y_pred_rf = random_forest.predict(X_test)\n",
    "y_pred_dt = decision_tree.predict(X_test)"
   ]
  },
  {
   "cell_type": "code",
   "execution_count": 56,
   "id": "4f3dd4c2-b2bf-4614-b4bd-4a898aeae06c",
   "metadata": {},
   "outputs": [
    {
     "data": {
      "text/html": [
       "<div>\n",
       "<style scoped>\n",
       "    .dataframe tbody tr th:only-of-type {\n",
       "        vertical-align: middle;\n",
       "    }\n",
       "\n",
       "    .dataframe tbody tr th {\n",
       "        vertical-align: top;\n",
       "    }\n",
       "\n",
       "    .dataframe thead th {\n",
       "        text-align: right;\n",
       "    }\n",
       "</style>\n",
       "<table border=\"1\" class=\"dataframe\">\n",
       "  <thead>\n",
       "    <tr style=\"text-align: right;\">\n",
       "      <th></th>\n",
       "      <th>Review</th>\n",
       "      <th>Rating</th>\n",
       "      <th>Sentiment</th>\n",
       "      <th>tokenised_reviews</th>\n",
       "      <th>tokenized_reviews</th>\n",
       "      <th>vectorized_reviews</th>\n",
       "    </tr>\n",
       "  </thead>\n",
       "  <tbody>\n",
       "    <tr>\n",
       "      <th>0</th>\n",
       "      <td>nice hotel expensive parking got good deal sta...</td>\n",
       "      <td>4</td>\n",
       "      <td>Positive</td>\n",
       "      <td>[nice, hotel, expensive, parking, got, good, d...</td>\n",
       "      <td>[nice, hotel, expensive, parking, got, good, d...</td>\n",
       "      <td>[-0.3357823, 0.07207583, -0.14168282, 0.048325...</td>\n",
       "    </tr>\n",
       "    <tr>\n",
       "      <th>1</th>\n",
       "      <td>ok nothing special charge diamond member hilto...</td>\n",
       "      <td>2</td>\n",
       "      <td>Negative</td>\n",
       "      <td>[ok, nothing, special, charge, diamond, member...</td>\n",
       "      <td>[ok, nothing, special, charge, diamond, member...</td>\n",
       "      <td>[-0.34333777, -0.015320155, -0.08091111, 0.093...</td>\n",
       "    </tr>\n",
       "    <tr>\n",
       "      <th>2</th>\n",
       "      <td>nice rooms not 4* experience hotel monaco seat...</td>\n",
       "      <td>3</td>\n",
       "      <td>Negative</td>\n",
       "      <td>[nice, rooms, experience, hotel, monaco, seatt...</td>\n",
       "      <td>[nice, rooms, experience, hotel, monaco, seatt...</td>\n",
       "      <td>[-0.29065084, 0.07731358, -0.14528197, 0.02621...</td>\n",
       "    </tr>\n",
       "    <tr>\n",
       "      <th>3</th>\n",
       "      <td>unique, great stay, wonderful time hotel monac...</td>\n",
       "      <td>5</td>\n",
       "      <td>Positive</td>\n",
       "      <td>[unique, great, stay, wonderful, time, hotel, ...</td>\n",
       "      <td>[unique, great, stay, wonderful, time, hotel, ...</td>\n",
       "      <td>[-0.23622258, -0.008219728, -0.13663921, 0.029...</td>\n",
       "    </tr>\n",
       "    <tr>\n",
       "      <th>4</th>\n",
       "      <td>great stay great stay, went seahawk game aweso...</td>\n",
       "      <td>5</td>\n",
       "      <td>Positive</td>\n",
       "      <td>[great, stay, great, stay, went, seahawk, game...</td>\n",
       "      <td>[great, stay, great, stay, went, seahawk, game...</td>\n",
       "      <td>[-0.37186733, 0.032668386, -0.11321956, 0.0837...</td>\n",
       "    </tr>\n",
       "  </tbody>\n",
       "</table>\n",
       "</div>"
      ],
      "text/plain": [
       "                                              Review  Rating Sentiment  \\\n",
       "0  nice hotel expensive parking got good deal sta...       4  Positive   \n",
       "1  ok nothing special charge diamond member hilto...       2  Negative   \n",
       "2  nice rooms not 4* experience hotel monaco seat...       3  Negative   \n",
       "3  unique, great stay, wonderful time hotel monac...       5  Positive   \n",
       "4  great stay great stay, went seahawk game aweso...       5  Positive   \n",
       "\n",
       "                                   tokenised_reviews  \\\n",
       "0  [nice, hotel, expensive, parking, got, good, d...   \n",
       "1  [ok, nothing, special, charge, diamond, member...   \n",
       "2  [nice, rooms, experience, hotel, monaco, seatt...   \n",
       "3  [unique, great, stay, wonderful, time, hotel, ...   \n",
       "4  [great, stay, great, stay, went, seahawk, game...   \n",
       "\n",
       "                                   tokenized_reviews  \\\n",
       "0  [nice, hotel, expensive, parking, got, good, d...   \n",
       "1  [ok, nothing, special, charge, diamond, member...   \n",
       "2  [nice, rooms, experience, hotel, monaco, seatt...   \n",
       "3  [unique, great, stay, wonderful, time, hotel, ...   \n",
       "4  [great, stay, great, stay, went, seahawk, game...   \n",
       "\n",
       "                                  vectorized_reviews  \n",
       "0  [-0.3357823, 0.07207583, -0.14168282, 0.048325...  \n",
       "1  [-0.34333777, -0.015320155, -0.08091111, 0.093...  \n",
       "2  [-0.29065084, 0.07731358, -0.14528197, 0.02621...  \n",
       "3  [-0.23622258, -0.008219728, -0.13663921, 0.029...  \n",
       "4  [-0.37186733, 0.032668386, -0.11321956, 0.0837...  "
      ]
     },
     "execution_count": 56,
     "metadata": {},
     "output_type": "execute_result"
    }
   ],
   "source": [
    "data.head()"
   ]
  },
  {
   "cell_type": "code",
   "execution_count": 59,
   "id": "fa02d7fc-34bc-4647-a0c9-8ab8d7cd4904",
   "metadata": {},
   "outputs": [
    {
     "name": "stdout",
     "output_type": "stream",
     "text": [
      "Logistic Regression:\n",
      "Accuracy: 0.6267\n",
      "              precision    recall  f1-score   support\n",
      "\n",
      "           1       0.70      0.62      0.66       292\n",
      "           2       0.45      0.49      0.47       333\n",
      "           3       0.49      0.22      0.31       432\n",
      "           4       0.54      0.50      0.52      1252\n",
      "           5       0.71      0.84      0.77      1790\n",
      "\n",
      "    accuracy                           0.63      4099\n",
      "   macro avg       0.58      0.53      0.54      4099\n",
      "weighted avg       0.61      0.63      0.61      4099\n",
      "\n",
      "\n",
      "Random Forest:\n",
      "Accuracy: 0.5804\n",
      "              precision    recall  f1-score   support\n",
      "\n",
      "           1       0.69      0.54      0.61       292\n",
      "           2       0.41      0.35      0.38       333\n",
      "           3       0.41      0.07      0.13       432\n",
      "           4       0.47      0.41      0.44      1252\n",
      "           5       0.64      0.87      0.74      1790\n",
      "\n",
      "    accuracy                           0.58      4099\n",
      "   macro avg       0.52      0.45      0.46      4099\n",
      "weighted avg       0.55      0.58      0.55      4099\n",
      "\n",
      "\n",
      "Decision Tree:\n",
      "Accuracy: 0.4467\n",
      "              precision    recall  f1-score   support\n",
      "\n",
      "           1       0.41      0.37      0.39       292\n",
      "           2       0.23      0.26      0.24       333\n",
      "           3       0.18      0.20      0.19       432\n",
      "           4       0.38      0.36      0.37      1252\n",
      "           5       0.61      0.61      0.61      1790\n",
      "\n",
      "    accuracy                           0.45      4099\n",
      "   macro avg       0.36      0.36      0.36      4099\n",
      "weighted avg       0.45      0.45      0.45      4099\n",
      "\n"
     ]
    }
   ],
   "source": [
    "#Evaluate the models\n",
    "\n",
    "# Logistic Regression Evaluation\n",
    "print(\"Logistic Regression:\")\n",
    "print(f'Accuracy: {accuracy_score(y_test, y_pred_lr):.4f}')\n",
    "print(classification_report(y_test, y_pred_lr))\n",
    "\n",
    "# Random Forest Evaluation\n",
    "print(\"\\nRandom Forest:\")\n",
    "print(f'Accuracy: {accuracy_score(y_test, y_pred_rf):.4f}')\n",
    "print(classification_report(y_test, y_pred_rf))\n",
    "\n",
    "# Decision Tree Evaluation\n",
    "print(\"\\nDecision Tree:\")\n",
    "print(f'Accuracy: {accuracy_score(y_test, y_pred_dt):.4f}')\n",
    "print(classification_report(y_test, y_pred_dt))"
   ]
  },
  {
   "cell_type": "code",
   "execution_count": 61,
   "id": "007b540b-6e9a-4333-988a-4070f3ca89be",
   "metadata": {},
   "outputs": [
    {
     "data": {
      "image/png": "[encoded data removed]",
      "text/plain": [
       "<Figure size 640x480 with 1 Axes>"
      ]
     },
     "metadata": {},
     "output_type": "display_data"
    }
   ],
   "source": [
    "#Visualisation\n",
    "\n",
    "import seaborn as sns\n",
    "import matplotlib.pyplot as plt\n",
    "\n",
    "sns.countplot(x='Rating',data=data)\n",
    "plt.show()"
   ]
  },
  {
   "cell_type": "code",
   "execution_count": 63,
   "id": "d8e31d5e-ed9c-429e-818c-f3c8205fb341",
   "metadata": {},
   "outputs": [
    {
     "data": {
      "image/png": "[encoded data removed]",
      "text/plain": [
       "<Figure size 1800x500 with 6 Axes>"
      ]
     },
     "metadata": {},
     "output_type": "display_data"
    }
   ],
   "source": [
    "from sklearn.metrics import confusion_matrix\n",
    "\n",
    "#confusion matrix\n",
    "\n",
    "cm_lr= confusion_matrix(y_test,y_pred_lr)\n",
    "cm_rf= confusion_matrix(y_test,y_pred_rf)\n",
    "cm_dt= confusion_matrix(y_test,y_pred_dt)\n",
    "\n",
    "fig,axes=plt.subplots(1,3,figsize=(18,5))\n",
    "\n",
    "sns.heatmap(cm_lr,annot = True,fmt='d',cmap='Reds',xticklabels=['1','2','3','4','5'],yticklabels=['1','2','3','4','5'],ax=axes[0])\n",
    "axes[0].set_title('Logistic Regression')\n",
    "sns.heatmap(cm_rf,annot=True,fmt='d',cmap='Blues',xticklabels=['1','2','3','4','5'],yticklabels=['1','2','3','4','5'],ax=axes[1])\n",
    "axes[1].set_title(\"Random Forest\")\n",
    "sns.heatmap(cm_dt,annot=True,fmt='d',cmap='Purples',xticklabels=['1','2','3','4','5'],yticklabels=['1','2','3','4','5'],ax=axes[2])\n",
    "axes[2].set_title(\"Decision Tree\")\n",
    "plt.tight_layout()\n",
    "plt.show()"
   ]
  },
  {
   "cell_type": "markdown",
   "id": "6b570982-c6d0-42ff-b4a2-05c62a877b00",
   "metadata": {},
   "source": [
    "#Report\n",
    "\n",
    "Logistic Regression gives the high accuracy compared to other model\n",
    "Logistic Regression is the best model"
   ]
  },
  {
   "cell_type": "code",
   "execution_count": null,
   "id": "25264f0b-ed7f-4f1b-a8fd-50be4f1bf2ef",
   "metadata": {},
   "outputs": [],
   "source": []
  },
  {
   "cell_type": "code",
   "execution_count": null,
   "id": "103f5ec1-586a-48e9-9ec1-5723f8d4f823",
   "metadata": {},
   "outputs": [],
   "source": []
  }
 ],
 "metadata": {
  "kernelspec": {
   "display_name": "Python 3 (ipykernel)",
   "language": "python",
   "name": "python3"
  },
  "language_info": {
   "codemirror_mode": {
    "name": "ipython",
    "version": 3
   },
   "file_extension": ".py",
   "mimetype": "text/x-python",
   "name": "python",
   "nbconvert_exporter": "python",
   "pygments_lexer": "ipython3",
   "version": "3.12.7"
  }
 },
 "nbformat": 4,
 "nbformat_minor": 5
}
